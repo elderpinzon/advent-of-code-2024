{
 "cells": [
  {
   "cell_type": "code",
   "execution_count": 1,
   "metadata": {},
   "outputs": [
    {
     "data": {
      "text/plain": [
       "1000"
      ]
     },
     "execution_count": 1,
     "metadata": {},
     "output_type": "execute_result"
    }
   ],
   "source": [
    "import numpy as np\n",
    "\n",
    "with open(\"input.txt\") as f:\n",
    "    reports = f.read().splitlines()\n",
    "\n",
    "len(reports)"
   ]
  },
  {
   "cell_type": "code",
   "execution_count": 2,
   "metadata": {},
   "outputs": [],
   "source": [
    "def is_report_safe(x):\n",
    "    levels_shifted = x[1:]\n",
    "    levels_shifted.append(x[-1])\n",
    "    diff = np.array(levels_shifted) - np.array(x)\n",
    "    if all(i >= 1 and i<=3 for i in diff[:-1]) \\\n",
    "        or all(i <= -1 and i>=-3 for i in diff[:-1]):\n",
    "        return True\n",
    "    else:\n",
    "        return False"
   ]
  },
  {
   "cell_type": "code",
   "execution_count": 3,
   "metadata": {},
   "outputs": [
    {
     "name": "stdout",
     "output_type": "stream",
     "text": [
      "safe_reports 230\n"
     ]
    }
   ],
   "source": [
    "safe_reports = 0\n",
    "unsafe_reports = []\n",
    "for report in reports:\n",
    "    levels = report.split()\n",
    "    levels = [int(level) for level in levels]\n",
    "    if is_report_safe(levels):\n",
    "        safe_reports+=1\n",
    "    else:\n",
    "        unsafe_reports.append(levels)\n",
    "\n",
    "print('safe_reports', safe_reports)"
   ]
  },
  {
   "cell_type": "code",
   "execution_count": 4,
   "metadata": {},
   "outputs": [
    {
     "name": "stdout",
     "output_type": "stream",
     "text": [
      "[45, 47, 48, 51, 54, 56]\n",
      "[76, 79, 81, 84]\n",
      "[30, 32, 35, 36, 38, 40]\n",
      "[72, 74, 77, 78]\n",
      "[54, 55, 57, 60]\n",
      "[23, 26, 28, 31, 34, 35, 36]\n",
      "[81, 82, 84, 87, 88, 89]\n",
      "[55, 58, 61, 63, 64, 65, 67]\n",
      "[20, 23, 25, 28, 31, 32, 35]\n",
      "[25, 26, 28, 31, 32, 35, 38]\n",
      "[72, 74, 77, 79, 81, 84, 87]\n",
      "[22, 19, 16, 14, 12, 10, 9]\n",
      "[74, 72, 70, 67, 66]\n",
      "[42, 40, 39, 36]\n",
      "[95, 93, 92, 91]\n",
      "[13, 10, 8, 6, 4]\n",
      "[44, 42, 40, 39, 38]\n",
      "[30, 28, 27, 25, 24, 21, 19]\n",
      "[45, 42, 41, 38, 36]\n",
      "[93, 92, 90, 89, 86, 84]\n",
      "[15, 17, 18, 21, 23, 25, 26]\n",
      "[65, 68, 71, 74, 77, 80, 81]\n",
      "[23, 26, 28, 29, 31, 32]\n",
      "[84, 86, 87, 90, 92, 93]\n",
      "[89, 90, 91, 94, 95, 96]\n",
      "[24, 26, 29, 32]\n",
      "[91, 93, 94, 97]\n",
      "[29, 32, 33, 35, 36, 38]\n",
      "[87, 89, 90, 92, 93, 95, 96]\n",
      "[6, 7, 9, 12, 14]\n",
      "[62, 65, 68, 70, 72]\n",
      "[83, 86, 88, 91, 93]\n",
      "[34, 37, 39, 40, 42]\n",
      "[75, 72, 69, 68]\n",
      "[16, 13, 10, 9, 8, 6]\n",
      "[96, 95, 94, 91, 88, 87]\n",
      "[44, 41, 39, 37, 35, 32]\n",
      "[34, 33, 30, 27]\n",
      "[21, 19, 17, 16]\n",
      "[39, 37, 36, 33, 32, 29, 26]\n",
      "[15, 12, 10, 7]\n",
      "[90, 87, 85, 84, 82, 79]\n",
      "[66, 63, 62, 59]\n",
      "[77, 75, 73, 72, 71, 70, 69]\n",
      "[80, 77, 75, 72, 71]\n",
      "[48, 50, 53, 56, 57, 60, 62]\n",
      "[47, 48, 50, 52, 55, 57]\n",
      "[34, 35, 37, 38, 41, 42, 45]\n",
      "[59, 60, 61, 63, 64, 66]\n",
      "[42, 45, 47, 49, 51, 53]\n",
      "[16, 18, 19, 22, 24]\n",
      "[56, 58, 60, 61, 63]\n",
      "[88, 89, 91, 92, 94]\n",
      "[51, 50, 47, 44]\n",
      "[46, 47, 49, 51, 52, 53, 54]\n",
      "[49, 50, 51, 52, 54]\n",
      "[8, 11, 14, 17, 19, 21]\n",
      "[25, 27, 28, 29, 30, 33, 34]\n",
      "[77, 79, 81, 82]\n",
      "[91, 89, 88, 85, 84]\n",
      "[75, 73, 71, 69]\n",
      "[23, 21, 19, 17, 15, 13, 12]\n",
      "[52, 50, 48, 45, 43]\n",
      "[34, 33, 32, 31, 29, 26]\n",
      "[28, 25, 22, 19, 18, 17, 14]\n",
      "[27, 25, 23, 20, 19, 17, 16]\n",
      "[54, 51, 48, 45, 43, 41, 40]\n",
      "[43, 41, 38, 35, 34, 32, 29]\n",
      "[58, 56, 54, 51, 48, 47, 45]\n",
      "[93, 94, 95, 96, 98, 99]\n",
      "[75, 72, 71, 68, 66, 65, 62]\n",
      "71\n"
     ]
    }
   ],
   "source": [
    "new_safe_reports = 0\n",
    "for report in unsafe_reports:\n",
    "    for i in range(len(report)):\n",
    "        copy_report = report.copy()\n",
    "        copy_report.pop(i)\n",
    "        if is_report_safe(copy_report):\n",
    "            print(copy_report)\n",
    "            new_safe_reports +=1\n",
    "            break\n",
    "\n",
    "print(new_safe_reports)\n"
   ]
  }
 ],
 "metadata": {
  "kernelspec": {
   "display_name": ".env",
   "language": "python",
   "name": "python3"
  },
  "language_info": {
   "codemirror_mode": {
    "name": "ipython",
    "version": 3
   },
   "file_extension": ".py",
   "mimetype": "text/x-python",
   "name": "python",
   "nbconvert_exporter": "python",
   "pygments_lexer": "ipython3",
   "version": "3.10.13"
  }
 },
 "nbformat": 4,
 "nbformat_minor": 2
}
