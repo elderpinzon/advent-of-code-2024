{
 "cells": [
  {
   "cell_type": "code",
   "execution_count": 1,
   "metadata": {},
   "outputs": [],
   "source": [
    "num_0 = []\n",
    "num_1 = []\n",
    "\n",
    "with open('input.txt') as f:\n",
    "    lines = f.read().splitlines()\n",
    "    for line in lines:\n",
    "        numbers = line.split()\n",
    "        num_0.append(int(numbers[0]))\n",
    "        num_1.append(int(numbers[1]))"
   ]
  },
  {
   "cell_type": "code",
   "execution_count": 2,
   "metadata": {},
   "outputs": [],
   "source": [
    "num_0.sort()\n",
    "num_1.sort()\n"
   ]
  },
  {
   "cell_type": "code",
   "execution_count": 3,
   "metadata": {},
   "outputs": [
    {
     "name": "stdout",
     "output_type": "stream",
     "text": [
      "2742123\n"
     ]
    }
   ],
   "source": [
    "total_dist = 0\n",
    "for n0, n1 in zip(num_0, num_1):\n",
    "    diff = abs(n0-n1)\n",
    "    total_dist += diff\n",
    "    # print(n0, n1, diff)\n",
    "\n",
    "print(total_dist)"
   ]
  }
 ],
 "metadata": {
  "kernelspec": {
   "display_name": ".env",
   "language": "python",
   "name": "python3"
  },
  "language_info": {
   "codemirror_mode": {
    "name": "ipython",
    "version": 3
   },
   "file_extension": ".py",
   "mimetype": "text/x-python",
   "name": "python",
   "nbconvert_exporter": "python",
   "pygments_lexer": "ipython3",
   "version": "3.10.13"
  }
 },
 "nbformat": 4,
 "nbformat_minor": 2
}
