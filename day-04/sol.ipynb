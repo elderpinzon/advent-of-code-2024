{
 "cells": [
  {
   "cell_type": "code",
   "execution_count": 1,
   "metadata": {},
   "outputs": [
    {
     "name": "stdout",
     "output_type": "stream",
     "text": [
      "[['S' 'S' 'S' ... 'S' 'S' 'S']\n",
      " ['M' 'A' 'A' ... 'A' 'A' 'A']\n",
      " ['M' 'S' 'M' ... 'M' 'M' 'M']\n",
      " ...\n",
      " ['M' 'A' 'A' ... 'A' 'M' 'A']\n",
      " ['M' 'S' 'S' ... 'S' 'X' 'S']\n",
      " ['X' 'X' 'A' ... 'M' 'A' 'X']]\n"
     ]
    }
   ],
   "source": [
    "import numpy as np\n",
    "\n",
    "with open(\"./input.txt\") as f:\n",
    "    input = f.readlines()\n",
    "\n",
    "input = [list(s.strip()) for s in input]\n",
    "input_2d = np.array(input)\n",
    "print(input_2d)"
   ]
  },
  {
   "cell_type": "code",
   "execution_count": 2,
   "metadata": {},
   "outputs": [
    {
     "data": {
      "text/plain": [
       "array([['M', 'M', 'M', 'S', 'X', 'X', 'M', 'A', 'S', 'M'],\n",
       "       ['M', 'S', 'A', 'M', 'X', 'M', 'S', 'M', 'S', 'A'],\n",
       "       ['A', 'M', 'X', 'S', 'X', 'M', 'A', 'A', 'M', 'M'],\n",
       "       ['M', 'S', 'A', 'M', 'A', 'S', 'M', 'S', 'M', 'X'],\n",
       "       ['X', 'M', 'A', 'S', 'A', 'M', 'X', 'A', 'M', 'M'],\n",
       "       ['X', 'X', 'A', 'M', 'M', 'X', 'X', 'A', 'M', 'A'],\n",
       "       ['S', 'M', 'S', 'M', 'S', 'A', 'S', 'X', 'S', 'S'],\n",
       "       ['S', 'A', 'X', 'A', 'M', 'A', 'S', 'A', 'A', 'A'],\n",
       "       ['M', 'A', 'M', 'M', 'M', 'X', 'M', 'M', 'M', 'M'],\n",
       "       ['M', 'X', 'M', 'X', 'A', 'X', 'M', 'A', 'S', 'X']], dtype='<U1')"
      ]
     },
     "execution_count": 2,
     "metadata": {},
     "output_type": "execute_result"
    }
   ],
   "source": [
    "data = \"\"\"\n",
    "MMMSXXMASM\n",
    "MSAMXMSMSA\n",
    "AMXSXMAAMM\n",
    "MSAMASMSMX\n",
    "XMASAMXAMM\n",
    "XXAMMXXAMA\n",
    "SMSMSASXSS\n",
    "SAXAMASAAA\n",
    "MAMMMXMMMM\n",
    "MXMXAXMASX\n",
    "\"\"\"\n",
    "\n",
    "# Convert the string into a 2D numpy array\n",
    "test_data = np.array([list(line) for line in data.strip().split(\"\\n\")])\n",
    "test_data"
   ]
  },
  {
   "cell_type": "code",
   "execution_count": 3,
   "metadata": {},
   "outputs": [
    {
     "name": "stdout",
     "output_type": "stream",
     "text": [
      "18\n"
     ]
    }
   ],
   "source": [
    "def check_if_xmas(x):\n",
    "    count = 0\n",
    "    for r in range(len(x)):\n",
    "        for c in range(len(x[r])):\n",
    "            if x[r][c] != 'X': continue\n",
    "            for dr in [-1,0,1]:\n",
    "                for dc in [-1,0,1]:\n",
    "                    if dr == dc == 0: continue\n",
    "                    if 0 <= r+3*dr < len(x) and 0 <= c+3*dc < len(x[0]):\n",
    "                        if x[r+dr][c+dc] == 'M' and x[r+2*dr][c+2*dc] == 'A' and x[r+3*dr][c+3*dc] == 'S':\n",
    "                            count +=1\n",
    "\n",
    "    print(count)\n",
    "\n",
    "check_if_xmas(test_data)"
   ]
  },
  {
   "cell_type": "code",
   "execution_count": 4,
   "metadata": {},
   "outputs": [
    {
     "name": "stdout",
     "output_type": "stream",
     "text": [
      "2644\n",
      "CPU times: user 46.5 ms, sys: 1.53 ms, total: 48 ms\n",
      "Wall time: 46.9 ms\n"
     ]
    }
   ],
   "source": [
    "%%time\n",
    "check_if_xmas(input_2d)"
   ]
  },
  {
   "cell_type": "markdown",
   "metadata": {},
   "source": [
    "## Part 2"
   ]
  },
  {
   "cell_type": "code",
   "execution_count": 5,
   "metadata": {},
   "outputs": [
    {
     "name": "stdout",
     "output_type": "stream",
     "text": [
      "9\n"
     ]
    }
   ],
   "source": [
    "def check_if_cross_mas(x):\n",
    "    count = 0\n",
    "    for r in range(len(x)):\n",
    "        for c in range(len(x[r])):\n",
    "            if x[r][c] != 'A': continue\n",
    "            if 1<=r<len(x)-1 and 1<=c<len(x[r])-1:\n",
    "                if ((x[r-1][c-1] == 'M' and x[r+1][c+1] =='S') or \\\n",
    "                    (x[r-1][c-1] == 'S' and x[r+1][c+1] =='M')) and \\\n",
    "                    ((x[r+1][c-1] == 'M' and x[r-1][c+1] =='S') or \\\n",
    "                    (x[r+1][c-1] == 'S' and x[r-1][c+1] =='M')):\n",
    "                    count += 1\n",
    "    print(count)\n",
    "\n",
    "check_if_cross_mas(test_data)\n"
   ]
  },
  {
   "cell_type": "code",
   "execution_count": 6,
   "metadata": {},
   "outputs": [
    {
     "name": "stdout",
     "output_type": "stream",
     "text": [
      "1952\n"
     ]
    }
   ],
   "source": [
    "check_if_cross_mas(input_2d)\n"
   ]
  }
 ],
 "metadata": {
  "kernelspec": {
   "display_name": ".env",
   "language": "python",
   "name": "python3"
  },
  "language_info": {
   "codemirror_mode": {
    "name": "ipython",
    "version": 3
   },
   "file_extension": ".py",
   "mimetype": "text/x-python",
   "name": "python",
   "nbconvert_exporter": "python",
   "pygments_lexer": "ipython3",
   "version": "3.10.13"
  }
 },
 "nbformat": 4,
 "nbformat_minor": 2
}
